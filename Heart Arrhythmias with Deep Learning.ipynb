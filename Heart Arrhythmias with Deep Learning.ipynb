{
 "cells": [
  {
   "cell_type": "markdown",
   "id": "33e3321b",
   "metadata": {},
   "source": [
    "# Detecting Heart Arrhythmias with Deep Learning in Keras CNN"
   ]
  },
  {
   "cell_type": "markdown",
   "id": "d98140ef",
   "metadata": {},
   "source": [
    "Here is a machine learning algorithm that could detect abnormal heart beats.\n",
    "In this project we have used a data which is collected through IoT devices and trained 3 neural \n",
    "networks to predict heart arrhythmias i.e dense neural network, CNN, and LSTM.But We found greater accuracy rate\n",
    "on CNN so we have presented the CNN model."
   ]
  },
  {
   "cell_type": "markdown",
   "id": "c9667e32",
   "metadata": {},
   "source": [
    "### Our project basically consits of main 3 section \n",
    "<ol>\n",
    "<li>\n",
    "Data Preparation</li>\n",
    "<li>\n",
    "Make a dataset</li>\n",
    "<li>\n",
    "Create and train deep neural network</li>\n",
    "</ol>"
   ]
  },
  {
   "cell_type": "markdown",
   "id": "46db76f7",
   "metadata": {},
   "source": [
    "### Dataset\n",
    "We have used the MIH-BIH Arrythmia dataset which is made aavailable under the ODC Attribution License.\n",
    "This data set is bacically 48 hours of heartbeat reacodings measured at 360 Hz ie 360 data points per second.\n",
    "The recordings have a pulse singnal value and annotations from cardiologist for each heart beat.The diffrent symbols \n",
    "have diffrent meanings for example\n",
    "<ul>\n",
    "<li>\n",
    "N --> Normal beat \n",
    "<li>\n",
    "L --> Left bundle branch block beat</li>\n",
    "<li>\n",
    "R --> Right bundle branch block beat</li>\n",
    "<li>\n",
    "B --> Bundle branch block beat (unspecified)</li>\n",
    "<li>\n",
    "A --> Atrial premature beat</li>\n",
    "<li>\n",
    "[ --> Start of ventricular flutter/fibrillation</li>\n",
    "<li>\n",
    "! --> Ventricular flutter wave</li>\n",
    " <li>\n",
    "] --> End of ventricular flutter/fibrillation</li>\n",
    "<li>\n",
    "x --> Non-conducted P-wave (blocked APC)</li>\n",
    "</ul>"
   ]
  },
  {
   "cell_type": "markdown",
   "id": "eabd5836",
   "metadata": {},
   "source": [
    "### Our project\n",
    "We have made our model to predict heart beat annotations from pulse signal for each 6 second window centered on\n",
    "the peak of the heart beat. We have used 6 seconds window so that we can compare the current beat to beats which \n",
    "just before and after. This decision was based after talking to a physician who said it is easier to identify \n",
    "if you have something to compare it to."
   ]
  },
  {
   "cell_type": "markdown",
   "id": "fdc5b744",
   "metadata": {},
   "source": [
    "## (i) Data Preparation"
   ]
  },
  {
   "cell_type": "code",
   "execution_count": 17,
   "id": "07d92473",
   "metadata": {},
   "outputs": [],
   "source": [
    "import pandas as pd\n",
    "import numpy as np\n",
    "import matplotlib.pyplot as plt\n",
    "from os import listdir"
   ]
  },
  {
   "cell_type": "code",
   "execution_count": 18,
   "id": "ce95ea45",
   "metadata": {},
   "outputs": [],
   "source": [
    "# dataset importing\n",
    "data_path = 'mit-bih-arrhythmia-database-1.0.0/'"
   ]
  },
  {
   "cell_type": "code",
   "execution_count": 19,
   "id": "beb6f59d",
   "metadata": {},
   "outputs": [],
   "source": [
    "# list of patients (48)\n",
    "pts = ['100','101','102','103','104','105','106','107',\n",
    "       '108','109','111','112','113','114','115','116',\n",
    "       '117','118','119','121','122','123','124','200',\n",
    "       '201','202','203','205','207','208','209','210',\n",
    "       '212','213','214','215','217','219','220','221',\n",
    "       '222','223','228','230','231','232','233','234']"
   ]
  },
  {
   "cell_type": "markdown",
   "id": "2144896c",
   "metadata": {},
   "source": [
    "Here we have used package wfdb for loading the patients record and annotations."
   ]
  },
  {
   "cell_type": "code",
   "execution_count": 20,
   "id": "491fb5b2",
   "metadata": {},
   "outputs": [],
   "source": [
    "import wfdb"
   ]
  },
  {
   "cell_type": "markdown",
   "id": "bcbd8bd5",
   "metadata": {},
   "source": [
    "Here we have loaded all the annotations and displyed the distribution of heart beat types across all files."
   ]
  },
  {
   "cell_type": "code",
   "execution_count": 21,
   "id": "00bddf2e",
   "metadata": {},
   "outputs": [],
   "source": [
    "df = pd.DataFrame()\n",
    "\n",
    "for pt in pts:\n",
    "    file = data_path + pt\n",
    "    annotation = wfdb.rdann(file, 'atr')\n",
    "    sym = annotation.symbol\n",
    "    \n",
    "    values, counts = np.unique(sym, return_counts=True)\n",
    "    df_sub = pd.DataFrame({'sym':values, 'val':counts, 'pt':[pt]*len(counts)})\n",
    "    df = pd.concat([df, df_sub],axis = 0)"
   ]
  },
  {
   "cell_type": "code",
   "execution_count": 22,
   "id": "5d7dac15",
   "metadata": {},
   "outputs": [
    {
     "data": {
      "text/plain": [
       "sym\n",
       "N    75052\n",
       "L     8075\n",
       "R     7259\n",
       "V     7130\n",
       "/     7028\n",
       "A     2546\n",
       "+     1291\n",
       "f      982\n",
       "F      803\n",
       "~      616\n",
       "!      472\n",
       "\"      437\n",
       "j      229\n",
       "x      193\n",
       "a      150\n",
       "|      132\n",
       "E      106\n",
       "J       83\n",
       "Q       33\n",
       "e       16\n",
       "[        6\n",
       "]        6\n",
       "S        2\n",
       "Name: val, dtype: int64"
      ]
     },
     "execution_count": 22,
     "metadata": {},
     "output_type": "execute_result"
    }
   ],
   "source": [
    "df.groupby('sym').val.sum().sort_values(ascending = False)"
   ]
  },
  {
   "cell_type": "markdown",
   "id": "cd9afcaa",
   "metadata": {},
   "source": [
    "Here we have divided the list of symbols into 3 categories"
   ]
  },
  {
   "cell_type": "code",
   "execution_count": 25,
   "id": "11a1f81d",
   "metadata": {},
   "outputs": [],
   "source": [
    "# list of nonbeat and abnormal\n",
    "nonbeat = ['[','!',']','x','(',')','p','t','u','`',\n",
    "           '\\'','^','|','~','+','s','T','*','D','=','\"','@','Q','?']\n",
    "abnormal = ['L','R','V','/','A','f','F','j','a','E','J','e','S']"
   ]
  },
  {
   "cell_type": "code",
   "execution_count": 26,
   "id": "2d7fc4ff",
   "metadata": {},
   "outputs": [],
   "source": [
    "#break into normal, abnormal or nonbeat\n",
    "df['cat'] = -1\n",
    "df.loc[df.sym == 'N','cat'] = 0\n",
    "df.loc[df.sym.isin(abnormal), 'cat'] = 1"
   ]
  },
  {
   "cell_type": "code",
   "execution_count": 27,
   "id": "b35dd024",
   "metadata": {},
   "outputs": [
    {
     "data": {
      "text/plain": [
       "cat\n",
       "-1     3186\n",
       " 0    75052\n",
       " 1    34409\n",
       "Name: val, dtype: int64"
      ]
     },
     "execution_count": 27,
     "metadata": {},
     "output_type": "execute_result"
    }
   ],
   "source": [
    "df.groupby('cat').val.sum()"
   ]
  },
  {
   "cell_type": "markdown",
   "id": "44fb0ad2",
   "metadata": {},
   "source": [
    "We can see that 30% in this dataset are abnormal"
   ]
  },
  {
   "cell_type": "markdown",
   "id": "e614347c",
   "metadata": {},
   "source": [
    "Then we wrote some functions for loading a single patient's singnals and annotations.(30min of data)"
   ]
  },
  {
   "cell_type": "code",
   "execution_count": 33,
   "id": "b336a51a",
   "metadata": {},
   "outputs": [],
   "source": [
    "def load_ecg(file):\n",
    "    # load the ecg\n",
    "    # example file: 'mit-bih-arrhythmia-database-1.0.0/101'\n",
    "    \n",
    "    # load the ecg\n",
    "    record = wfdb.rdrecord(file)\n",
    "    # load the annotation\n",
    "    annotation = wfdb.rdann(file, 'atr')\n",
    "    \n",
    "    # extract the signal\n",
    "    p_signal = record.p_signal\n",
    "    \n",
    "    # verify frequency is 360\n",
    "    assert record.fs == 360, 'sample freq is not 360'\n",
    "    \n",
    "    # extract symbols and annotation index\n",
    "    atr_sym = annotation.symbol\n",
    "    atr_sample = annotation.sample\n",
    "    \n",
    "    return p_signal, atr_sym, atr_sample"
   ]
  },
  {
   "cell_type": "code",
   "execution_count": 35,
   "id": "83a8572f",
   "metadata": {},
   "outputs": [],
   "source": [
    "file = data_path + pts[0]"
   ]
  },
  {
   "cell_type": "code",
   "execution_count": 36,
   "id": "15441679",
   "metadata": {},
   "outputs": [],
   "source": [
    "p_signal, atr_sym, atr_sample = load_ecg(file)"
   ]
  },
  {
   "cell_type": "markdown",
   "id": "ff614cd9",
   "metadata": {},
   "source": [
    "We have displyed the abnormal beats are in a patient’s record"
   ]
  },
  {
   "cell_type": "code",
   "execution_count": 37,
   "id": "ff8b7a6a",
   "metadata": {},
   "outputs": [
    {
     "name": "stdout",
     "output_type": "stream",
     "text": [
      "+ 3\n",
      "J 50\n",
      "N 2700\n",
      "V 3\n",
      "~ 8\n"
     ]
    }
   ],
   "source": [
    "values, counts = np.unique(sym, return_counts=True)\n",
    "for v,c in zip(values, counts):\n",
    "    print(v,c)"
   ]
  },
  {
   "cell_type": "markdown",
   "id": "df3e7e25",
   "metadata": {},
   "source": [
    "Here we are ploting the signal around one of the abnormal beats"
   ]
  },
  {
   "cell_type": "code",
   "execution_count": 38,
   "id": "16f98f8a",
   "metadata": {},
   "outputs": [
    {
     "data": {
      "text/plain": [
       "[2044, 66792, 74986, 99579, 128085, 170719, 279576, 305709, 307745, 312825]"
      ]
     },
     "execution_count": 38,
     "metadata": {},
     "output_type": "execute_result"
    }
   ],
   "source": [
    "# get abnormal beat index\n",
    "ab_index = [b for a,b in zip(atr_sym,atr_sample) if a in abnormal][:10]\n",
    "ab_index"
   ]
  },
  {
   "cell_type": "code",
   "execution_count": 39,
   "id": "b4fd0658",
   "metadata": {},
   "outputs": [],
   "source": [
    "x = np.arange(len(p_signal))"
   ]
  },
  {
   "cell_type": "code",
   "execution_count": 40,
   "id": "729fbbf5",
   "metadata": {},
   "outputs": [
    {
     "data": {
      "image/png": "[encoded data removed]",
      "text/plain": [
       "<Figure size 432x288 with 1 Axes>"
      ]
     },
     "metadata": {
      "needs_background": "light"
     },
     "output_type": "display_data"
    }
   ],
   "source": [
    "left = ab_index[1]-1080\n",
    "right = ab_index[1]+1080\n",
    "\n",
    "plt.plot(x[left:right],p_signal[left:right,0],'-',label='ecg',)\n",
    "plt.plot(x[atr_sample],p_signal[atr_sample,0],'go',label ='normal')\n",
    "plt.plot(x[ab_index],p_signal[ab_index,0],'ro',label='abnormal')\n",
    "plt.xlim(left,right)\n",
    "plt.ylim(p_signal[left:right].min()-0.05,p_signal[left:right,0].max()+0.05)\n",
    "plt.show()"
   ]
  },
  {
   "cell_type": "code",
   "execution_count": 56,
   "id": "8516cf06",
   "metadata": {},
   "outputs": [
    {
     "data": {
      "image/png": "[encoded data removed]",
      "text/plain": [
       "<Figure size 432x288 with 1 Axes>"
      ]
     },
     "metadata": {
      "needs_background": "light"
     },
     "output_type": "display_data"
    }
   ],
   "source": [
    "left = ab_index[1]-1080\n",
    "right = ab_index[1]+1080\n",
    "\n",
    "#plt.plot(x[left:right],p_signal[left:right,0],'-',label='ecg',)\n",
    "plt.plot(x[atr_sample],p_signal[atr_sample,0],'go',label ='normal')\n",
    "plt.plot(x[ab_index],p_signal[ab_index,0],'ro',label='abnormal')\n",
    "plt.xlim(left,right)\n",
    "plt.ylim(p_signal[left:right].min()-0.05,p_signal[left:right,0].max()+0.05)\n",
    "plt.show()"
   ]
  },
  {
   "cell_type": "markdown",
   "id": "c1fe6c79",
   "metadata": {},
   "source": [
    "## (ii) Make a dataset"
   ]
  },
  {
   "cell_type": "markdown",
   "id": "118b1679",
   "metadata": {},
   "source": [
    "We are made a dataset that is centered on beats with +- 3 seconds before and after"
   ]
  },
  {
   "cell_type": "code",
   "execution_count": 45,
   "id": "f238a948",
   "metadata": {},
   "outputs": [],
   "source": [
    "def make_dataset(pts, num_sec, fs, abnormal):\n",
    "    # function for making dataset ignoring non-beats\n",
    "    # input:\n",
    "    # pts - list of patients\n",
    "    # num_sec = number of seconds to include before and after the beat\n",
    "    # fs = frequency\n",
    "    # output: \n",
    "    #   X_all = signal (nbeats , num_sec * fs columns)\n",
    "    #   Y_all = binary is abnormal (nbeats, 1)\n",
    "    #   sym_all = beat annotation symbol (nbeats,1)\n",
    "    \n",
    "    # initialize numpy arrays\n",
    "    num_cols = 2*num_sec * fs\n",
    "    X_all = np.zeros((1,num_cols))\n",
    "    Y_all = np.zeros((1,1))\n",
    "    sym_all = []\n",
    "    \n",
    "    # list to keep track of number of beats across patients\n",
    "    max_rows = []\n",
    "    \n",
    "    for pt in pts:\n",
    "        file = data_path + pt\n",
    "        \n",
    "        p_signal, atr_sym, atr_sample = load_ecg(file)\n",
    "        \n",
    "        # grab the first signal\n",
    "        p_signal = p_signal[:,0]\n",
    "        \n",
    "        # make df to exclude the nonbeats\n",
    "        df_ann = pd.DataFrame({'atr_sym':atr_sym,\n",
    "                              'atr_sample':atr_sample})\n",
    "        df_ann = df_ann.loc[df_ann.atr_sym.isin(abnormal + ['N'])]\n",
    "        \n",
    "        X,Y,sym = build_XY(p_signal,df_ann, num_cols, abnormal)\n",
    "        sym_all = sym_all+sym\n",
    "        max_rows.append(X.shape[0])\n",
    "        X_all = np.append(X_all,X,axis = 0)\n",
    "        Y_all = np.append(Y_all,Y,axis = 0)\n",
    "    # drop the first zero row\n",
    "    X_all = X_all[1:,:]\n",
    "    Y_all = Y_all[1:,:]\n",
    "    \n",
    "    # check sizes make sense\n",
    "    assert np.sum(max_rows) == X_all.shape[0], 'number of X, max_rows rows messed up'\n",
    "    assert Y_all.shape[0] == X_all.shape[0], 'number of X, Y rows messed up'\n",
    "    assert Y_all.shape[0] == len(sym_all), 'number of Y, sym rows messed up'\n",
    "    return X_all, Y_all, sym_all\n",
    "def build_XY(p_signal, df_ann, num_cols, abnormal):\n",
    "    # this function builds the X,Y matrices for each beat\n",
    "    # it also returns the original symbols for Y\n",
    "    \n",
    "    num_rows = len(df_ann)\n",
    "    X = np.zeros((num_rows, num_cols))\n",
    "    Y = np.zeros((num_rows,1))\n",
    "    sym = []\n",
    "    \n",
    "    # keep track of rows\n",
    "    max_row = 0\n",
    "    for atr_sample, atr_sym in zip(df_ann.atr_sample.values,df_ann.atr_sym.values):\n",
    "        left = max([0,(atr_sample - num_sec*fs) ])\n",
    "        right = min([len(p_signal),(atr_sample + num_sec*fs) ])\n",
    "        x = p_signal[left: right]\n",
    "        if len(x) == num_cols:\n",
    "            X[max_row,:] = x\n",
    "            Y[max_row,:] = int(atr_sym in abnormal)\n",
    "            sym.append(atr_sym)\n",
    "            max_row += 1\n",
    "    X = X[:max_row,:]\n",
    "    Y = Y[:max_row,:]\n",
    "    return X,Y,sym"
   ]
  },
  {
   "cell_type": "code",
   "execution_count": 46,
   "id": "ca4903db",
   "metadata": {},
   "outputs": [],
   "source": [
    "num_sec = 3\n",
    "fs = 360\n",
    "X_all, Y_all, sym_all = make_dataset(pts, num_sec, fs, abnormal)"
   ]
  },
  {
   "cell_type": "markdown",
   "id": "8044367c",
   "metadata": {},
   "source": [
    "Here we are splitting data into train and validate datasets"
   ]
  },
  {
   "cell_type": "code",
   "execution_count": 47,
   "id": "e1cbe791",
   "metadata": {},
   "outputs": [],
   "source": [
    "from sklearn.model_selection import train_test_split\n",
    "\n",
    "X_train, X_valid, y_train, y_valid = train_test_split(X_all, Y_all, test_size=0.33, random_state=42)"
   ]
  },
  {
   "cell_type": "markdown",
   "id": "8f48968a",
   "metadata": {},
   "source": [
    "## CNN"
   ]
  },
  {
   "cell_type": "markdown",
   "id": "20650e67",
   "metadata": {},
   "source": [
    "Here we have made our CNN. Here we have used a 1 dimensional CNN (as opposed to the 2D CNN for images).\n",
    "A CNN is a special type of deep learning algorithm which uses a set of filters and the convolution operator \n",
    "to reduce the number of parameters.Essentially, the way this works for 1D CNN is to take a filter (kernel) of \n",
    "size kernel_size starting with the first time stamp. The convolution operator takes the filter and multiplies \n",
    "each element against the first \n",
    "kernel_size time steps. These products are then summed for the first cell in the next layer of the neural network. \n",
    "The filter then moves over by stride time steps and repeats. The output of the convolution is then \n",
    "multiplied by a set of weights W and added to a bias b and then passed through a non-linear activation function.\n",
    "Here we have used Dropout \n",
    "which is a technique for reducing overfitting by randomly removing some nodes."
   ]
  },
  {
   "cell_type": "markdown",
   "id": "501bca03",
   "metadata": {},
   "source": [
    "For Keras’ CNN model, we need to reshape our data just a bit"
   ]
  },
  {
   "cell_type": "code",
   "execution_count": 48,
   "id": "7c85fa67",
   "metadata": {},
   "outputs": [
    {
     "name": "stdout",
     "output_type": "stream",
     "text": [
      "(73096, 2160, 1)\n",
      "(36003, 2160, 1)\n"
     ]
    }
   ],
   "source": [
    "# reshape input to be [samples, time steps, features = 1]\n",
    "X_train_cnn = np.reshape(X_train, (X_train.shape[0], X_train.shape[1], 1))\n",
    "X_valid_cnn = np.reshape(X_valid, (X_valid.shape[0], X_valid.shape[1], 1))\n",
    "\n",
    "print(X_train_cnn.shape)\n",
    "print(X_valid_cnn.shape)"
   ]
  },
  {
   "cell_type": "markdown",
   "id": "13017764",
   "metadata": {},
   "source": [
    "Here we have used a one layer CNN with drop out"
   ]
  },
  {
   "cell_type": "code",
   "execution_count": 49,
   "id": "bbb72716",
   "metadata": {},
   "outputs": [],
   "source": [
    "from keras.layers import Conv1D"
   ]
  },
  {
   "cell_type": "code",
   "execution_count": 50,
   "id": "c27bc835",
   "metadata": {},
   "outputs": [],
   "source": [
    "from keras.models import Sequential\n",
    "from keras.layers import Dense, Flatten, Dropout\n",
    "from keras.utils import to_categorical"
   ]
  },
  {
   "cell_type": "code",
   "execution_count": 51,
   "id": "1e76d3e5",
   "metadata": {},
   "outputs": [],
   "source": [
    "model = Sequential()\n",
    "model.add(Conv1D(filters = 128, kernel_size = 5, activation = 'relu', input_shape = (2160,1)))\n",
    "model.add(Dropout(rate = 0.25))\n",
    "model.add(Flatten())\n",
    "model.add(Dense(1, activation = 'sigmoid'))\n",
    "\n",
    "# compile the model - use categorical crossentropy, and the adam optimizer\n",
    "model.compile(\n",
    "                loss = 'binary_crossentropy',\n",
    "                optimizer = 'adam',\n",
    "                metrics = ['accuracy'])"
   ]
  },
  {
   "cell_type": "code",
   "execution_count": 30,
   "id": "ee0f9cc3",
   "metadata": {},
   "outputs": [
    {
     "name": "stdout",
     "output_type": "stream",
     "text": [
      "Epoch 1/2\n",
      "2285/2285 [==============================] - 397s 173ms/step - loss: 0.2937 - accuracy: 0.8878\n",
      "Epoch 2/2\n",
      "2285/2285 [==============================] - 380s 166ms/step - loss: 0.1344 - accuracy: 0.9595\n"
     ]
    },
    {
     "data": {
      "text/plain": [
       "<tensorflow.python.keras.callbacks.History at 0x7f8c2c28bb80>"
      ]
     },
     "execution_count": 30,
     "metadata": {},
     "output_type": "execute_result"
    }
   ],
   "source": [
    "model.fit(X_train_cnn, y_train, batch_size = 32, epochs= 2, verbose = 1)"
   ]
  },
  {
   "cell_type": "code",
   "execution_count": 56,
   "id": "33b2f14e",
   "metadata": {},
   "outputs": [],
   "source": [
    "from keras.models import model_from_json\n",
    "# load json and create model\n",
    "json_file = open('model.json', 'r')\n",
    "model_json = json_file.read()\n",
    "json_file.close()\n",
    "model = model_from_json(model_json)\n",
    "# load weights into new model\n",
    "model.load_weights(\"model.h5\")"
   ]
  },
  {
   "cell_type": "markdown",
   "id": "f288d5f9",
   "metadata": {},
   "source": [
    "### Validating the model"
   ]
  },
  {
   "cell_type": "markdown",
   "id": "68a0473d",
   "metadata": {},
   "source": [
    "Here we are making predictions from our trained Keras model with predict method on test dataset"
   ]
  },
  {
   "cell_type": "code",
   "execution_count": 61,
   "id": "7fbf494c",
   "metadata": {},
   "outputs": [
    {
     "name": "stdout",
     "output_type": "stream",
     "text": [
      "1126/1126 [==============================] - 44s 33ms/step\n"
     ]
    }
   ],
   "source": [
    "y_valid_preds_cnn = model.predict(X_valid_cnn,verbose = 1)"
   ]
  },
  {
   "cell_type": "markdown",
   "id": "7d130c3f",
   "metadata": {},
   "source": [
    "Here we have wrote some functions for metrics reporting"
   ]
  },
  {
   "cell_type": "code",
   "execution_count": 64,
   "id": "012355dc",
   "metadata": {},
   "outputs": [],
   "source": [
    "from sklearn.metrics import roc_auc_score, accuracy_score, precision_score, recall_score\n",
    "def calc_prevalence(y_actual):\n",
    "    return (sum(y_actual)/len(y_actual))\n",
    "def calc_specificity(y_actual, y_pred, thresh):\n",
    "    # calculates specificity\n",
    "    return sum((y_pred < thresh) & (y_actual == 0)) /sum(y_actual ==0)\n",
    "def print_report(y_actual, y_pred, thresh):\n",
    "    \n",
    "    auc = roc_auc_score(y_actual, y_pred)\n",
    "    accuracy = accuracy_score(y_actual, (y_pred > thresh))\n",
    "    recall = recall_score(y_actual, (y_pred > thresh))\n",
    "    precision = precision_score(y_actual, (y_pred > thresh))\n",
    "    specificity = calc_specificity(y_actual, y_pred, thresh)\n",
    "    ##print('AUC:%.3f'%auc)\n",
    "    print('accuracy:%.3f'%accuracy)\n",
    "    ##print('recall:%.3f'%recall)\n",
    "    print('precision:%.3f'%precision)\n",
    "    print('specificity:%.3f'%specificity)\n",
    "    ##print('prevalence:%.3f'%calc_prevalence(y_actual))\n",
    "    print(' ')\n",
    "    ##return auc, accuracy, recall, precision, specificity\n",
    "\n",
    "thresh = (sum(y_train)/len(y_train))[0]"
   ]
  },
  {
   "cell_type": "code",
   "execution_count": 65,
   "id": "dd152b32",
   "metadata": {},
   "outputs": [
    {
     "name": "stdout",
     "output_type": "stream",
     "text": [
      "Valid\n",
      "accuracy:0.963\n",
      "precision:0.932\n",
      "specificity:0.968\n",
      " \n"
     ]
    }
   ],
   "source": [
    "print('Valid');\n",
    "print_report(y_valid, y_valid_preds_cnn, thresh)"
   ]
  }
 ],
 "metadata": {
  "kernelspec": {
   "display_name": "Python 3.8.8 64-bit ('base': conda)",
   "language": "python",
   "name": "python388jvsc74a57bd001447e46feacc6780cdfb1a9192b3676f91c4f79b7f69003f2821951a6c48de2"
  },
  "language_info": {
   "codemirror_mode": {
    "name": "ipython",
    "version": 3
   },
   "file_extension": ".py",
   "mimetype": "text/x-python",
   "name": "python",
   "nbconvert_exporter": "python",
   "pygments_lexer": "ipython3",
   "version": "3.8.8"
  }
 },
 "nbformat": 4,
 "nbformat_minor": 5
}
